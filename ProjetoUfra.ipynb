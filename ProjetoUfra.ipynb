{
 "cells": [
  {
   "cell_type": "markdown",
   "id": "dfb4f961",
   "metadata": {},
   "source": [
    "##  Importação de Bibliotecas"
   ]
  },
  {
   "cell_type": "code",
   "execution_count": 47,
   "id": "8f2df912",
   "metadata": {},
   "outputs": [],
   "source": [
    "import pandas as pd\n",
    "import numpy as np\n",
    "import seaborn as sns\n",
    "from matplotlib import gridspec\n",
    "from matplotlib import pyplot as plt\n",
    "from matplotlib.ticker import StrMethodFormatter, NullFormatter\n",
    "import plotly.express as px\n",
    "import ipywidgets as widgets\n",
    "from ipywidgets import interact, interactive, fixed, interact_manual\n",
    "import mysql.connector as connection"
   ]
  },
  {
   "cell_type": "markdown",
   "id": "ce42dfa8",
   "metadata": {},
   "source": [
    "## Extração de Dados"
   ]
  },
  {
   "cell_type": "code",
   "execution_count": 48,
   "id": "410ae387",
   "metadata": {},
   "outputs": [
    {
     "name": "stderr",
     "output_type": "stream",
     "text": [
      "/Users/luizramos/.pyenv/versions/LabProdSoftware/lib/python3.10/site-packages/pandas/io/sql.py:761: UserWarning: pandas only support SQLAlchemy connectable(engine/connection) ordatabase string URI or sqlite3 DBAPI2 connectionother DBAPI2 objects are not tested, please consider using SQLAlchemy\n",
      "  warnings.warn(\n"
     ]
    }
   ],
   "source": [
    "#---------------------------------------------\n",
    "#-----(Carregando dados do banco de dados)----\n",
    "#---------------------------------------------\n",
    "\n",
    "try:\n",
    "    mydb = connection.connect(host=\"localhost\", database = 'housedb',user=\"root\", passwd=\"Master2010\",use_pure=True) #Conexão com o BD\n",
    "    query = \"Select * from houses;\" #Query da tabela house\n",
    "    data = pd.read_sql(query,mydb) #Salvando resultado da Query em um pandas dataframe\n",
    "    mydb.close() #fechando conexão com o BD\n",
    "except Exception as e:\n",
    "    mydb.close()\n",
    "    print(str(e))"
   ]
  },
  {
   "cell_type": "code",
   "execution_count": 49,
   "id": "acefb437",
   "metadata": {},
   "outputs": [],
   "source": [
    "# ----(Carrehando Token Mapbox)----\n",
    "\n",
    "token = open(r'MapboxToken.txt').read()"
   ]
  },
  {
   "cell_type": "markdown",
   "id": "05ba94b7",
   "metadata": {},
   "source": [
    "## Transformação de Dados"
   ]
  },
  {
   "cell_type": "code",
   "execution_count": 50,
   "id": "e314fc55",
   "metadata": {},
   "outputs": [],
   "source": [
    "#---------------------------------------------------\n",
    "#----(Retira notação científica Pandas e Numpy)-----\n",
    "#---------------------------------------------------\n",
    "\n",
    "np.set_printoptions(suppress=True)\n",
    "pd.set_option('display.float_format', '{:.2f}'.format)"
   ]
  },
  {
   "cell_type": "code",
   "execution_count": 51,
   "id": "29de8cff",
   "metadata": {},
   "outputs": [
    {
     "data": {
      "text/plain": [
       "id                        int64\n",
       "dates            datetime64[ns]\n",
       "price                   float64\n",
       "bedrooms                  int64\n",
       "bathrooms               float64\n",
       "sqft_living               int64\n",
       "sqft_lot                  int64\n",
       "floors                  float64\n",
       "waterfront                int64\n",
       "views                     int64\n",
       "conditions                int64\n",
       "grade                     int64\n",
       "sqft_above                int64\n",
       "sqft_basement             int64\n",
       "yr_built                  int64\n",
       "yr_renovated              int64\n",
       "zipcode                   int64\n",
       "lat                     float64\n",
       "lon                     float64\n",
       "sqft_living15             int64\n",
       "sqft_lot15                int64\n",
       "dtype: object"
      ]
     },
     "execution_count": 51,
     "metadata": {},
     "output_type": "execute_result"
    }
   ],
   "source": [
    "data['dates'] = pd.to_datetime( data['dates'], format='%Y-%m-%d' )\n",
    "data.dtypes"
   ]
  },
  {
   "cell_type": "code",
   "execution_count": 52,
   "id": "a06c9413",
   "metadata": {},
   "outputs": [
    {
     "data": {
      "text/plain": [
       "Timestamp('2014-05-02 00:00:00')"
      ]
     },
     "execution_count": 52,
     "metadata": {},
     "output_type": "execute_result"
    }
   ],
   "source": [
    "pd.to_datetime(data['dates'].min())"
   ]
  },
  {
   "cell_type": "code",
   "execution_count": 53,
   "id": "8c27c1d6",
   "metadata": {},
   "outputs": [],
   "source": [
    "#--------------------------------------------------------------------------------------------------\n",
    "# ----------------(Transformação de dados / Criação de novas tabelas)------------------------------\n",
    "#--------------------------------------------------------------------------------------------------\n",
    "\n",
    "#Editando tabela dates - para para datetime e no formato Ano, Mês e dia\n",
    "data['dates'] = pd.to_datetime( data['dates'] ).dt.strftime( '%Y-%m-%d' )\n",
    "\n",
    "#Criando tabela \"year\" em datetime e no formado Ano\n",
    "data['year'] = pd.to_datetime( data['dates'] ).dt.strftime( '%Y' )\n",
    "\n",
    "#Criando tabela \"year_week\" em datetime e no formado Ano-Mês\n",
    "data['year_week'] = pd.to_datetime( data['dates'] ).dt.strftime( '%Y-%U' )\n",
    "\n",
    "#Criando tabela \"is_waterfront\"\n",
    "data['is_waterfront'] = data['waterfront'].apply( lambda x: 'sim' if x == 1 else 'não' )"
   ]
  },
  {
   "cell_type": "code",
   "execution_count": 54,
   "id": "745effbe",
   "metadata": {},
   "outputs": [],
   "source": [
    "#--------------------------------------\n",
    "# ----(Botões Iterativos - Mapa)-------\n",
    "#--------------------------------------\n",
    "\n",
    "#Filtro - Preço Máximo\n",
    "price_limit = widgets.IntSlider(\n",
    "    value = data['price'].mean(),\n",
    "    min = data['price'].min(),\n",
    "    max = data['price'].max(),\n",
    "    step = 1,\n",
    "    description='Preço Maximo',\n",
    "    disable=False,\n",
    "    style={'description_width': 'initial'}\n",
    ")\n",
    "\n",
    "#Filtro - Vista para o mar\n",
    "waterfront_bar = widgets.Dropdown(\n",
    "    options = data['is_waterfront'].unique().tolist(),\n",
    "    value = 'sim',\n",
    "    description = 'Vista para o mar',\n",
    "    disable=False\n",
    ")\n",
    "\n",
    "#Filtro - Tamanho mínimo da sala de estar\n",
    "livingroom_limit = widgets.IntSlider(\n",
    "    value = int( data['sqft_living'].mean() ), \n",
    "    min = data['sqft_living'].min(),\n",
    "    max = data['sqft_living'].max(),\n",
    "    step = 1,\n",
    "    description='Tamanho mínimo da sala de estar',\n",
    "    disable=False,\n",
    "    style={'description_width': 'initial'}\n",
    ")\n",
    "\n",
    "#Filtro - Numéro mínimo de banheiros\n",
    "bathroom_limit = widgets.IntSlider(\n",
    "    value = int( data['bathrooms'].mean() ), \n",
    "    min = data['bathrooms'].min(),\n",
    "    max = data['bathrooms'].max(),\n",
    "    step = 1,\n",
    "    description='Numéro mínimo de banheiros',\n",
    "    disable=False,\n",
    "    style={'description_width': 'initial'}\n",
    ")\n",
    "\n",
    "#Filtro - Tamnho mínimo de sótão\n",
    "basement_limit = widgets.IntSlider(\n",
    "    value = int( data['sqft_basement'].mean() ), \n",
    "    min = data['sqft_basement'].min(),\n",
    "    max = data['sqft_basement'].max(),\n",
    "    step = 1,\n",
    "    description='Tamnho mínimo de sótão',\n",
    "    disable=False,\n",
    "    style={'description_width': 'initial'}\n",
    ")\n",
    "\n",
    "#Filtro - Condição Mínima\n",
    "condition_limit = widgets.IntSlider(\n",
    "    value = int( data['conditions'].mean() ), \n",
    "    min = data['conditions'].min(),\n",
    "    max = data['conditions'].max(),\n",
    "    step = 1,\n",
    "    description='Condição Mínima',\n",
    "    disable=False,\n",
    "    style={'description_width': 'initial'}\n",
    ")\n",
    "\n",
    "#Filtro - Ano de construção\n",
    "year_limit = widgets.IntSlider(\n",
    "    value = int( data['yr_built'].mean() ), \n",
    "    min = data['yr_built'].min(),\n",
    "    max = data['yr_built'].max(),\n",
    "    step = 1,\n",
    "    description='Ano de construção',\n",
    "    disable=False,\n",
    "    style={'description_width': 'initial'}\n",
    ")"
   ]
  },
  {
   "cell_type": "code",
   "execution_count": 55,
   "id": "856203df",
   "metadata": {},
   "outputs": [
    {
     "data": {
      "text/plain": [
       "id                 int64\n",
       "dates             object\n",
       "price            float64\n",
       "bedrooms           int64\n",
       "bathrooms        float64\n",
       "sqft_living        int64\n",
       "sqft_lot           int64\n",
       "floors           float64\n",
       "waterfront         int64\n",
       "views              int64\n",
       "conditions         int64\n",
       "grade              int64\n",
       "sqft_above         int64\n",
       "sqft_basement      int64\n",
       "yr_built           int64\n",
       "yr_renovated       int64\n",
       "zipcode            int64\n",
       "lat              float64\n",
       "lon              float64\n",
       "sqft_living15      int64\n",
       "sqft_lot15         int64\n",
       "year              object\n",
       "year_week         object\n",
       "is_waterfront     object\n",
       "dtype: object"
      ]
     },
     "execution_count": 55,
     "metadata": {},
     "output_type": "execute_result"
    }
   ],
   "source": [
    "data.dtypes"
   ]
  },
  {
   "cell_type": "code",
   "execution_count": 56,
   "id": "d424f5d3",
   "metadata": {},
   "outputs": [],
   "source": [
    "#------------------------------------------\n",
    "# ----(Botões Iterativos - Gráficos)-------\n",
    "#------------------------------------------\n",
    "\n",
    "# Filtro - Data máxima disponível\n",
    "date_limit = widgets.SelectionSlider( \n",
    "    options = data['dates'].sort_values().unique().tolist(),\n",
    "    value='2014-12-01',\n",
    "    description='Data máxima disponível',\n",
    "    disable=False,\n",
    "    continuous_update=False,\n",
    "    orientation='horizontal',\n",
    "    style={'description_width': 'initial'},\n",
    "    readout=True\n",
    ")\n",
    "\n",
    "# Filtro - Ano máximo de reforma\n",
    "year_limit = widgets.SelectionSlider( \n",
    "    options = data['yr_renovated'].sort_values().unique().tolist(),\n",
    "    value=2000,\n",
    "    description='Ano máximo reforma',\n",
    "    disable=False,\n",
    "    continuous_update=False,\n",
    "    orientation='horizontal',\n",
    "    style={'description_width': 'initial'},\n",
    "    readout=True\n",
    ")\n",
    "\n",
    "# Filtro - Vista para o Mar \n",
    "waterfront_limit = widgets.Checkbox(\n",
    "    value=False,\n",
    "    description='Vista para o mar?',\n",
    "    disabled=False,\n",
    "    indent=False\n",
    ")"
   ]
  },
  {
   "cell_type": "markdown",
   "id": "dc302558",
   "metadata": {},
   "source": [
    "## Carregando Dados Mapas"
   ]
  },
  {
   "cell_type": "code",
   "execution_count": 57,
   "id": "743133b7",
   "metadata": {},
   "outputs": [],
   "source": [
    "#---------------------------------------------------------------------------------------\n",
    "#---------------------------(Carregando função loadmap)---------------------------------\n",
    "#---------------------------------------------------------------------------------------\n",
    "\n",
    "def loadmap(data, waterfront, limit, livingroom_limit, bathroom_limit, basement_limit, condition_limit, year_limit ):\n",
    "\n",
    "#----------(Filtrando data)----------------\n",
    "\n",
    "    houses = data[(data['price'] <= limit) & \n",
    "                (data['is_waterfront'] == waterfront) &\n",
    "                (data['sqft_living'] >= livingroom_limit) &\n",
    "                (data['bathrooms'] >= bathroom_limit) &\n",
    "                (data['sqft_basement'] >= basement_limit) &\n",
    "                (data['conditions'] >= condition_limit) &\n",
    "                (data['yr_built'] >= year_limit )][['id', 'lat', 'lon', 'price']].copy()\n",
    "\n",
    "#-----------(Carregando mapa)---------------\n",
    "\n",
    "    fig = px.scatter_mapbox( houses, \n",
    "                             lat=\"lat\", \n",
    "                             lon=\"lon\", \n",
    "                             size=\"price\",\n",
    "                             color_discrete_sequence=['Gainsboro'],\n",
    "                             size_max=15, \n",
    "                             height=300,\n",
    "                             zoom=10)\n",
    "\n",
    "    fig.update_layout(mapbox_style='dark', mapbox_accesstoken=token)\n",
    "    fig.update_layout(height=600, margin={\"r\":0,\"t\":0,\"l\":0,\"b\":0})\n",
    "    fig.show()\n"
   ]
  },
  {
   "cell_type": "code",
   "execution_count": 58,
   "id": "c8a0c978",
   "metadata": {},
   "outputs": [
    {
     "data": {
      "application/vnd.jupyter.widget-view+json": {
       "model_id": "04223c0c44c546d8b82952335af3ce67",
       "version_major": 2,
       "version_minor": 0
      },
      "text/plain": [
       "interactive(children=(Dropdown(description='Vista para o mar', index=1, options=('não', 'sim'), value='sim'), …"
      ]
     },
     "metadata": {},
     "output_type": "display_data"
    }
   ],
   "source": [
    "#------(Carregando mapa com os filtros)-----------\n",
    "\n",
    "widgets.interactive( loadmap, \n",
    "                     data=fixed(data), \n",
    "                     waterfront=waterfront_bar, \n",
    "                     limit=price_limit, \n",
    "                     livingroom_limit=livingroom_limit,\n",
    "                     bathroom_limit=bathroom_limit,\n",
    "                     basement_limit=basement_limit,\n",
    "                     condition_limit=condition_limit,\n",
    "                     year_limit=year_limit\n",
    "                    )"
   ]
  },
  {
   "cell_type": "markdown",
   "id": "94480425",
   "metadata": {},
   "source": [
    "## Carregando Dados Gráficos"
   ]
  },
  {
   "cell_type": "code",
   "execution_count": 61,
   "id": "c38b7f26",
   "metadata": {},
   "outputs": [],
   "source": [
    "\n",
    "def update_graph( data, date_limit, year_limit, waterfront_limit ):\n",
    "    \n",
    "#  ----(Filtrando data)------\n",
    "\n",
    "    df = data[(data['dates'] <= date_limit) & \n",
    "              (data['yr_renovated'] >= year_limit) &\n",
    "              (data['waterfront'] == waterfront_limit)].copy()\n",
    "\n",
    "    fig = plt.figure( figsize=(24, 12) )\n",
    "    specs = gridspec.GridSpec( ncols=2, nrows=2, figure=fig )\n",
    "\n",
    "    ax1 = fig.add_subplot( specs[0, 0] ) # First Row\n",
    "    ax2 = fig.add_subplot( specs[0, 1] ) # First Row First Column\n",
    "    ax3 = fig.add_subplot( specs[1, :] ) # Second Row First Column\n",
    "\n",
    "    \n",
    "#   ----(Gráfico 1 - Preço médio por ano)----\n",
    "    \n",
    "    \n",
    "    #Criando Gráfico 1\n",
    "    by_year = df[['id', 'year']].groupby( 'year' ).sum().reset_index()\n",
    "    ax1.bar( by_year['year'], by_year['id'] )\n",
    "    ax1.set_title( \"Preço médio por ano\" )\n",
    "    ax1.tick_params(axis='x', rotation=0)\n",
    "    \n",
    "    # Retirar notação científica - Gráfico 1\n",
    "    ax1.yaxis.set_major_formatter(StrMethodFormatter('{x:.0f}'))\n",
    "    ax1.yaxis.set_minor_formatter(NullFormatter())\n",
    "    \n",
    "    \n",
    "#   ----(Gráfico 2 - Preço médio por semana)----\n",
    "    \n",
    "     #Criando Gráfico 2\n",
    "    df['year_week'] = pd.to_datetime( df['dates'] ).dt.strftime( '%Y-%U' )\n",
    "    by_week_of_year = df[['id', 'year_week']].groupby( 'year_week' ).mean().reset_index()\n",
    "    ax2.bar( by_week_of_year['year_week'], by_week_of_year['id'] )\n",
    "    ax2.set_title( \"Preço médio por semana\" )\n",
    "    ax2.tick_params(axis='x', rotation=60)\n",
    "    \n",
    "    # Retira notação científica -  Gráfico 2\n",
    "    ax2.yaxis.set_major_formatter(StrMethodFormatter('{x:.0f}'))\n",
    "    ax2.yaxis.set_minor_formatter(NullFormatter())\n",
    "    \n",
    "\n",
    "#   ----(Gráfico 3 - Preço médio por dia)----\n",
    "\n",
    "    # Criando Gráfico 3 - Preço médio por dia\n",
    "    by_day = df[['id', 'dates']].groupby( 'dates' ).mean().reset_index()\n",
    "    ax3.plot( by_day['dates'], by_day['id'] )\n",
    "    ax3.set_title( \"Preço médio por dia\" )\n",
    "    ax3.tick_params(axis='x', rotation=90)\n",
    "    \n",
    "    # Retira notação científica - Gráfico 3\n",
    "    ax3.yaxis.set_major_formatter(StrMethodFormatter('{x:.0f}'))\n",
    "    ax3.yaxis.set_minor_formatter(NullFormatter())\n",
    "    \n",
    "    "
   ]
  },
  {
   "cell_type": "code",
   "execution_count": 62,
   "id": "1cd6ce61",
   "metadata": {},
   "outputs": [
    {
     "data": {
      "application/vnd.jupyter.widget-view+json": {
       "model_id": "8d9978565fff45ee900249dd665ca1a6",
       "version_major": 2,
       "version_minor": 0
      },
      "text/plain": [
       "interactive(children=(SelectionSlider(continuous_update=False, description='Data máxima disponível', index=48,…"
      ]
     },
     "metadata": {},
     "output_type": "display_data"
    }
   ],
   "source": [
    "#-----------(Carregando gráficos com filtros)----------------\n",
    "\n",
    "widgets.interactive( update_graph, \n",
    "                     data = fixed( data ), \n",
    "                     date_limit=date_limit,\n",
    "                     year_limit=year_limit,\n",
    "                     waterfront_limit=waterfront_limit )"
   ]
  },
  {
   "cell_type": "code",
   "execution_count": null,
   "id": "31592799",
   "metadata": {},
   "outputs": [],
   "source": []
  }
 ],
 "metadata": {
  "kernelspec": {
   "display_name": "LabProdSoftware",
   "language": "python",
   "name": "labprodsoftware"
  },
  "language_info": {
   "codemirror_mode": {
    "name": "ipython",
    "version": 3
   },
   "file_extension": ".py",
   "mimetype": "text/x-python",
   "name": "python",
   "nbconvert_exporter": "python",
   "pygments_lexer": "ipython3",
   "version": "3.10.4"
  }
 },
 "nbformat": 4,
 "nbformat_minor": 5
}
